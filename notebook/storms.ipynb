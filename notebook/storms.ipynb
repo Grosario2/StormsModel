{
 "cells": [
  {
   "cell_type": "code",
   "execution_count": 7,
   "id": "1256604d-8527-409a-a5f9-2e4935e10074",
   "metadata": {},
   "outputs": [],
   "source": [
    "import pandas, matplotlib.pyplot\n",
    "import seaborn\n",
    "import pandas as pd\n",
    "from pandas.api.types import CategoricalDtype\n",
    "import matplotlib.pyplot as plt\n",
    "import seaborn as sns\n",
    "from thefuzz import fuzz\n",
    "from thefuzz import process\n",
    "from datetime import datetime\n",
    "import numpy as np\n",
    "import missingno as msno\n",
    "from sklearn.decomposition import PCA\n",
    "\n",
    "from sklearn import svm, datasets\n",
    "from sklearn.model_selection import train_test_split\n",
    "from sklearn.preprocessing import label_binarize\n",
    "from sklearn.multiclass import OneVsRestClassifier\n",
    "from sklearn.linear_model import LogisticRegression\n",
    "\n",
    "\n",
    "\n"
   ]
  },
  {
   "cell_type": "code",
   "execution_count": 69,
   "id": "2bd5b415-0c75-433f-8710-8fc1bd37f1a8",
   "metadata": {},
   "outputs": [],
   "source": [
    "storms = pd.read_csv('./data/storms.csv', index_col=0)\n",
    "\n"
   ]
  },
  {
   "cell_type": "code",
   "execution_count": 70,
   "id": "70fb46f8-51eb-4153-845a-6cb785976640",
   "metadata": {},
   "outputs": [
    {
     "data": {
      "text/html": [
       "<div>\n",
       "<style scoped>\n",
       "    .dataframe tbody tr th:only-of-type {\n",
       "        vertical-align: middle;\n",
       "    }\n",
       "\n",
       "    .dataframe tbody tr th {\n",
       "        vertical-align: top;\n",
       "    }\n",
       "\n",
       "    .dataframe thead th {\n",
       "        text-align: right;\n",
       "    }\n",
       "</style>\n",
       "<table border=\"1\" class=\"dataframe\">\n",
       "  <thead>\n",
       "    <tr style=\"text-align: right;\">\n",
       "      <th></th>\n",
       "      <th>name</th>\n",
       "      <th>year</th>\n",
       "      <th>month</th>\n",
       "      <th>day</th>\n",
       "      <th>hour</th>\n",
       "      <th>lat</th>\n",
       "      <th>long</th>\n",
       "      <th>status</th>\n",
       "      <th>category</th>\n",
       "      <th>wind</th>\n",
       "      <th>pressure</th>\n",
       "      <th>tropicalstorm_force_diameter</th>\n",
       "      <th>hurricane_force_diameter</th>\n",
       "    </tr>\n",
       "  </thead>\n",
       "  <tbody>\n",
       "    <tr>\n",
       "      <th>1</th>\n",
       "      <td>Amy</td>\n",
       "      <td>1975</td>\n",
       "      <td>6</td>\n",
       "      <td>27</td>\n",
       "      <td>0</td>\n",
       "      <td>27.5</td>\n",
       "      <td>-79.0</td>\n",
       "      <td>tropical depression</td>\n",
       "      <td>NaN</td>\n",
       "      <td>25</td>\n",
       "      <td>1013</td>\n",
       "      <td>NaN</td>\n",
       "      <td>NaN</td>\n",
       "    </tr>\n",
       "    <tr>\n",
       "      <th>2</th>\n",
       "      <td>Amy</td>\n",
       "      <td>1975</td>\n",
       "      <td>6</td>\n",
       "      <td>27</td>\n",
       "      <td>6</td>\n",
       "      <td>28.5</td>\n",
       "      <td>-79.0</td>\n",
       "      <td>tropical depression</td>\n",
       "      <td>NaN</td>\n",
       "      <td>25</td>\n",
       "      <td>1013</td>\n",
       "      <td>NaN</td>\n",
       "      <td>NaN</td>\n",
       "    </tr>\n",
       "    <tr>\n",
       "      <th>3</th>\n",
       "      <td>Amy</td>\n",
       "      <td>1975</td>\n",
       "      <td>6</td>\n",
       "      <td>27</td>\n",
       "      <td>12</td>\n",
       "      <td>29.5</td>\n",
       "      <td>-79.0</td>\n",
       "      <td>tropical depression</td>\n",
       "      <td>NaN</td>\n",
       "      <td>25</td>\n",
       "      <td>1013</td>\n",
       "      <td>NaN</td>\n",
       "      <td>NaN</td>\n",
       "    </tr>\n",
       "    <tr>\n",
       "      <th>4</th>\n",
       "      <td>Amy</td>\n",
       "      <td>1975</td>\n",
       "      <td>6</td>\n",
       "      <td>27</td>\n",
       "      <td>18</td>\n",
       "      <td>30.5</td>\n",
       "      <td>-79.0</td>\n",
       "      <td>tropical depression</td>\n",
       "      <td>NaN</td>\n",
       "      <td>25</td>\n",
       "      <td>1013</td>\n",
       "      <td>NaN</td>\n",
       "      <td>NaN</td>\n",
       "    </tr>\n",
       "    <tr>\n",
       "      <th>5</th>\n",
       "      <td>Amy</td>\n",
       "      <td>1975</td>\n",
       "      <td>6</td>\n",
       "      <td>28</td>\n",
       "      <td>0</td>\n",
       "      <td>31.5</td>\n",
       "      <td>-78.8</td>\n",
       "      <td>tropical depression</td>\n",
       "      <td>NaN</td>\n",
       "      <td>25</td>\n",
       "      <td>1012</td>\n",
       "      <td>NaN</td>\n",
       "      <td>NaN</td>\n",
       "    </tr>\n",
       "  </tbody>\n",
       "</table>\n",
       "</div>"
      ],
      "text/plain": [
       "  name  year  month  day  hour   lat  long               status  category  \\\n",
       "1  Amy  1975      6   27     0  27.5 -79.0  tropical depression       NaN   \n",
       "2  Amy  1975      6   27     6  28.5 -79.0  tropical depression       NaN   \n",
       "3  Amy  1975      6   27    12  29.5 -79.0  tropical depression       NaN   \n",
       "4  Amy  1975      6   27    18  30.5 -79.0  tropical depression       NaN   \n",
       "5  Amy  1975      6   28     0  31.5 -78.8  tropical depression       NaN   \n",
       "\n",
       "   wind  pressure  tropicalstorm_force_diameter  hurricane_force_diameter  \n",
       "1    25      1013                           NaN                       NaN  \n",
       "2    25      1013                           NaN                       NaN  \n",
       "3    25      1013                           NaN                       NaN  \n",
       "4    25      1013                           NaN                       NaN  \n",
       "5    25      1012                           NaN                       NaN  "
      ]
     },
     "execution_count": 70,
     "metadata": {},
     "output_type": "execute_result"
    }
   ],
   "source": [
    "storms.head()"
   ]
  },
  {
   "cell_type": "code",
   "execution_count": 71,
   "id": "5d1e0d44-1470-41c5-a108-1ee341c0d50d",
   "metadata": {},
   "outputs": [
    {
     "data": {
      "text/plain": [
       "name                             object\n",
       "year                              int64\n",
       "month                             int64\n",
       "day                               int64\n",
       "hour                              int64\n",
       "lat                             float64\n",
       "long                            float64\n",
       "status                           object\n",
       "category                        float64\n",
       "wind                              int64\n",
       "pressure                          int64\n",
       "tropicalstorm_force_diameter    float64\n",
       "hurricane_force_diameter        float64\n",
       "dtype: object"
      ]
     },
     "execution_count": 71,
     "metadata": {},
     "output_type": "execute_result"
    }
   ],
   "source": [
    "storms.dtypes"
   ]
  },
  {
   "cell_type": "code",
   "execution_count": 72,
   "id": "8ba0bea6-a7fa-4e08-b525-042e67408cd3",
   "metadata": {},
   "outputs": [
    {
     "name": "stdout",
     "output_type": "stream",
     "text": [
      "<class 'pandas.core.frame.DataFrame'>\n",
      "Index: 19066 entries, 1 to 19066\n",
      "Data columns (total 13 columns):\n",
      " #   Column                        Non-Null Count  Dtype  \n",
      "---  ------                        --------------  -----  \n",
      " 0   name                          19066 non-null  object \n",
      " 1   year                          19066 non-null  int64  \n",
      " 2   month                         19066 non-null  int64  \n",
      " 3   day                           19066 non-null  int64  \n",
      " 4   hour                          19066 non-null  int64  \n",
      " 5   lat                           19066 non-null  float64\n",
      " 6   long                          19066 non-null  float64\n",
      " 7   status                        19066 non-null  object \n",
      " 8   category                      4684 non-null   float64\n",
      " 9   wind                          19066 non-null  int64  \n",
      " 10  pressure                      19066 non-null  int64  \n",
      " 11  tropicalstorm_force_diameter  9554 non-null   float64\n",
      " 12  hurricane_force_diameter      9554 non-null   float64\n",
      "dtypes: float64(5), int64(6), object(2)\n",
      "memory usage: 2.0+ MB\n"
     ]
    }
   ],
   "source": [
    "storms.info()"
   ]
  },
  {
   "cell_type": "code",
   "execution_count": 73,
   "id": "c8d390b3-8c00-4569-ac89-6648659d5e07",
   "metadata": {},
   "outputs": [
    {
     "data": {
      "text/plain": [
       "category  tropicalstorm_force_diameter  hurricane_force_diameter\n",
       "True      False                         False                       7503\n",
       "          True                          True                        6879\n",
       "False     True                          True                        2633\n",
       "          False                         False                       2051\n",
       "Name: count, dtype: int64"
      ]
     },
     "execution_count": 73,
     "metadata": {},
     "output_type": "execute_result"
    }
   ],
   "source": [
    "storms[['category','tropicalstorm_force_diameter','hurricane_force_diameter']].isnull().value_counts()"
   ]
  },
  {
   "cell_type": "code",
   "execution_count": 94,
   "id": "f0bad2a7-a167-45af-937f-f8147d3b206f",
   "metadata": {},
   "outputs": [],
   "source": [
    "#Fillna to category features according to the wind speed\n",
    "\n",
    "#cond = storms['tropicalstorm_force_diameter'].notnull() & storms['hurricane_force_diameter'].notnull()\n",
    "\n",
    "storms.loc[storms['wind'] < 74, 'category'] = 0\n",
    "storms.loc[storms['wind'] >= 74  , 'category'] = 1\n",
    "storms.loc[storms['wind'] >= 96 , 'category'] = 2\n",
    "storms.loc[storms['wind'] >= 111 , 'category'] = 3\n",
    "storms.loc[storms['wind'] >= 130 , 'category'] = 4\n",
    "storms.loc[storms['wind'] >= 156 , 'category'] = 5\n",
    "\n",
    "#storms['category'] = storms.apply(lambda row: row['category'] if ~(np.isnan(row['tropicalstorm_force_diameter'])) else row)"
   ]
  },
  {
   "cell_type": "code",
   "execution_count": 97,
   "id": "330f7b78-292d-426f-aa87-a40bcd375f10",
   "metadata": {},
   "outputs": [
    {
     "data": {
      "text/plain": [
       "category\n",
       "0.0    15866\n",
       "1.0     1966\n",
       "2.0      580\n",
       "3.0      421\n",
       "4.0      228\n",
       "5.0        5\n",
       "Name: count, dtype: int64"
      ]
     },
     "execution_count": 97,
     "metadata": {},
     "output_type": "execute_result"
    }
   ],
   "source": [
    "storms['category'].value_counts()"
   ]
  },
  {
   "cell_type": "code",
   "execution_count": 98,
   "id": "e6be8637-5d31-4349-9b17-bbdb4aee1be8",
   "metadata": {},
   "outputs": [
    {
     "data": {
      "text/plain": [
       "category  tropicalstorm_force_diameter  hurricane_force_diameter\n",
       "False     False                         False                       9554\n",
       "          True                          True                        9512\n",
       "Name: count, dtype: int64"
      ]
     },
     "execution_count": 98,
     "metadata": {},
     "output_type": "execute_result"
    }
   ],
   "source": [
    "storms[['category','tropicalstorm_force_diameter','hurricane_force_diameter']].isnull().value_counts()"
   ]
  },
  {
   "cell_type": "code",
   "execution_count": 105,
   "id": "d49ab577-4e6e-428c-8e6d-c090fa5e5c7c",
   "metadata": {},
   "outputs": [
    {
     "data": {
      "text/html": [
       "<div>\n",
       "<style scoped>\n",
       "    .dataframe tbody tr th:only-of-type {\n",
       "        vertical-align: middle;\n",
       "    }\n",
       "\n",
       "    .dataframe tbody tr th {\n",
       "        vertical-align: top;\n",
       "    }\n",
       "\n",
       "    .dataframe thead th {\n",
       "        text-align: right;\n",
       "    }\n",
       "</style>\n",
       "<table border=\"1\" class=\"dataframe\">\n",
       "  <thead>\n",
       "    <tr style=\"text-align: right;\">\n",
       "      <th></th>\n",
       "      <th>Count</th>\n",
       "      <th>%</th>\n",
       "    </tr>\n",
       "  </thead>\n",
       "  <tbody>\n",
       "    <tr>\n",
       "      <th>tropicalstorm_force_diameter</th>\n",
       "      <td>9512</td>\n",
       "      <td>49.889856</td>\n",
       "    </tr>\n",
       "    <tr>\n",
       "      <th>hurricane_force_diameter</th>\n",
       "      <td>9512</td>\n",
       "      <td>49.889856</td>\n",
       "    </tr>\n",
       "  </tbody>\n",
       "</table>\n",
       "</div>"
      ],
      "text/plain": [
       "                              Count          %\n",
       "tropicalstorm_force_diameter   9512  49.889856\n",
       "hurricane_force_diameter       9512  49.889856"
      ]
     },
     "execution_count": 105,
     "metadata": {},
     "output_type": "execute_result"
    }
   ],
   "source": [
    "\n",
    "#Assesing percentage of missing values by features\n",
    "\n",
    "missing = pd.concat([storms.isnull().sum(), 100*storms.isnull().sum()/storms.shape[0]], axis=1)\n",
    "missing.columns = ['Count', '%']\n",
    "missing.sort_values(by='%', ascending=False, inplace=True)\n",
    "\n",
    "missing[missing['%']>10]"
   ]
  },
  {
   "cell_type": "code",
   "execution_count": null,
   "id": "1f1102b0-8fc4-48b7-ab90-a10506590f13",
   "metadata": {},
   "outputs": [],
   "source": []
  },
  {
   "cell_type": "code",
   "execution_count": null,
   "id": "13bcd932-9d64-4811-b4fc-f6c2195b1bb1",
   "metadata": {},
   "outputs": [],
   "source": []
  },
  {
   "cell_type": "code",
   "execution_count": null,
   "id": "f559d40e-ad6c-4bfc-9e54-62d4fc50d349",
   "metadata": {},
   "outputs": [],
   "source": []
  },
  {
   "cell_type": "code",
   "execution_count": null,
   "id": "77af5463-c81d-4cf4-9cc6-45fe6bc76d1b",
   "metadata": {},
   "outputs": [],
   "source": []
  },
  {
   "cell_type": "code",
   "execution_count": null,
   "id": "141852fe-d3f9-48bb-a6b0-caab34c2ec28",
   "metadata": {},
   "outputs": [],
   "source": []
  },
  {
   "cell_type": "code",
   "execution_count": null,
   "id": "6ae23dcd-ffec-4fdf-8e16-edcef5c41cc8",
   "metadata": {},
   "outputs": [],
   "source": []
  },
  {
   "cell_type": "code",
   "execution_count": null,
   "id": "dc8a3b3c-4823-4ccc-be14-9d1054425571",
   "metadata": {},
   "outputs": [],
   "source": []
  }
 ],
 "metadata": {
  "kernelspec": {
   "display_name": "Python 3 (ipykernel)",
   "language": "python",
   "name": "python3"
  },
  "language_info": {
   "codemirror_mode": {
    "name": "ipython",
    "version": 3
   },
   "file_extension": ".py",
   "mimetype": "text/x-python",
   "name": "python",
   "nbconvert_exporter": "python",
   "pygments_lexer": "ipython3",
   "version": "3.11.5"
  }
 },
 "nbformat": 4,
 "nbformat_minor": 5
}
